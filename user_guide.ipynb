{
 "cells": [
  {
   "cell_type": "markdown",
   "metadata": {},
   "source": [
    "# `data_generation` package\n",
    "___\n"
   ]
  },
  {
   "cell_type": "markdown",
   "metadata": {},
   "source": [
    "## Introduction\n",
    "\n",
    "This package is centered in the automatic generation of sinthetic datasets specially suited for high dimensional analysis. with a grouped structure. The package currently includes:\n",
    "\n",
    "* `EqualGroupSize`: A python class for the generation of datasets formed by groups of the same size\n",
    "* `UnequalGroupSize`: A python class for the generation of datasets formed by groups of different size\n",
    "* `dg_enet`: A function that generates data following the elastic net paper example 4\n",
    "* `dg_hierarchical`: A function that generates data following the hierarchical lasso structure example 2"
   ]
  },
  {
   "cell_type": "markdown",
   "metadata": {},
   "source": [
    "## Requirements\n",
    "___\n",
    "This package relies only in `numpy` and `scipy`"
   ]
  },
  {
   "cell_type": "markdown",
   "metadata": {},
   "source": [
    "## Usage examples\n",
    "___"
   ]
  },
  {
   "cell_type": "code",
   "execution_count": 1,
   "metadata": {},
   "outputs": [],
   "source": [
    "import numpy\n",
    "import data_generation as dgen"
   ]
  },
  {
   "cell_type": "markdown",
   "metadata": {},
   "source": [
    "### EqualGroupSize"
   ]
  },
  {
   "cell_type": "markdown",
   "metadata": {},
   "source": [
    "The input parameters are:\n",
    "* `n_obs=200`: Number of observations\n",
    "* `ro=0.5`: Between-groups correlation\n",
    "* `error_distribution='student_t'`: Distribution error (accepts `normal`, `student_t`, `cauchuy` and `chisq`)\n",
    "* `e_df=3`: Degrees of freedom used in student t and chi squared distributions\n",
    "* `e_loc=0`: Location parameter used in normal and cauchy distributions\n",
    "* `e_scale=3`: Location parameter used in normal and cauchy distributions\n",
    "* `random_state=None`: random state value in case reproducible data is required\n",
    "\n",
    "* `num_groups=20`: Number of groups to be generated\n",
    "* `group_size=20`: Size of the groups to be generated\n",
    "* `non_zero_groups=7`: Number of groups with variables that are not 0\n",
    "* `non_zero_coef=8`: Number of coefficients that are not 0 among the groups defined by `num_non_zero_groups`"
   ]
  },
  {
   "cell_type": "code",
   "execution_count": 2,
   "metadata": {},
   "outputs": [],
   "source": [
    "data_equal = dgen.EqualGroupSize(n_obs=5000, ro=0.2, error_distribution='student_t', \n",
    "                                 e_df=5, random_state=1, group_size=10, non_zero_groups=3, \n",
    "                                 non_zero_coef=5, num_groups=7)\n",
    "\n",
    "x, y, beta, group_index = data_equal.data_generation().values()"
   ]
  },
  {
   "cell_type": "markdown",
   "metadata": {},
   "source": [
    "The result is a predictor matrix x of dimension `group_size*num_groups` and array of beta coefficients with `non_zero_groups*non_zero_coef` coefficients different than 0"
   ]
  },
  {
   "cell_type": "markdown",
   "metadata": {},
   "source": [
    "## UnequalGroupSize\n",
    "\n",
    "The input parameters are:\n",
    "* `n_obs=200`: Number of observations\n",
    "* `ro=0.5`: Between-groups correlation\n",
    "* `error_distribution='student_t'`: Distribution error (accepts `normal`, `student_t`, `cauchuy` and `chisq`)\n",
    "* `e_df=3`: Degrees of freedom used in student t and chi squared distributions\n",
    "* `e_loc=0`: Location parameter used in normal and cauchy distributions\n",
    "* `e_scale=3`: Location parameter used in normal and cauchy distributions\n",
    "* `random_state=None`: random state value in case reproducible data is required\n",
    "\n",
    "* `tuple_group_size=(5, 15, 30)`: Number of groups to be generated\n",
    "* `tuple_number_of_group=(15, 15, 15)`: Size of the groups to be generated\n",
    "* `tuple_non_zero_groups=(3, 3, 3)`: Number of groups with variables that are not 0\n",
    "* `tuple_non_zero_coef=(3, 6, 10)`: Number of coefficients that are not 0 among the groups defined by `num_non_zero_groups`"
   ]
  },
  {
   "cell_type": "code",
   "execution_count": 3,
   "metadata": {},
   "outputs": [],
   "source": [
    "data_different = dgen.UnequalGroupSize(n_obs=5000, ro=0.8, error_distribution='normal', e_loc=1, e_scale=4,\n",
    "                                       random_state=2, tuple_group_size=(2, 4, 6, 8),\n",
    "                                       tuple_number_of_groups=(5, 10, 15, 20),\n",
    "                                       tuple_non_zero_coef=(1, 2, 3, 4),\n",
    "                                       tuple_non_zero_groups=(1, 3, 5, 7))\n",
    "\n",
    "x, y, beta, group_index = data_different.data_generation().values()"
   ]
  },
  {
   "cell_type": "markdown",
   "metadata": {},
   "source": [
    "The result is a predictor matrix x that has:\n",
    "* 5 groups of size 2\n",
    "* 10 groups of size 4\n",
    "* 15 groups of size 6\n",
    "* 20 groups of size 8\n",
    "\n",
    "And a beta array with coefficients different than 0:\n",
    "* 1 coefficient in 1 group of size 2\n",
    "* 2 coefficients in 3 groups of size 4\n",
    "* 3 coefficients in 5 groups of size 6\n",
    "* 4 coefficients in 7 groups of size 8\n",
    "A total number of coefficients of 1 + 2*3 + 3*5 + 4*7"
   ]
  }
 ],
 "metadata": {
  "kernelspec": {
   "display_name": "Python 3",
   "language": "python",
   "name": "python3"
  },
  "language_info": {
   "codemirror_mode": {
    "name": "ipython",
    "version": 3
   },
   "file_extension": ".py",
   "mimetype": "text/x-python",
   "name": "python",
   "nbconvert_exporter": "python",
   "pygments_lexer": "ipython3",
   "version": "3.7.7"
  }
 },
 "nbformat": 4,
 "nbformat_minor": 4
}
